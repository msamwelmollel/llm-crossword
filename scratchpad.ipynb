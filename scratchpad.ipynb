{
 "cells": [
  {
   "cell_type": "markdown",
   "metadata": {},
   "source": [
    "# Scratchpad\n",
    "\n",
    "A notebook for quickly iterating ideas\n"
   ]
  },
  {
   "cell_type": "code",
   "execution_count": 1,
   "metadata": {},
   "outputs": [
    {
     "data": {
      "text/plain": [
       "True"
      ]
     },
     "execution_count": 1,
     "metadata": {},
     "output_type": "execute_result"
    }
   ],
   "source": [
    "import os\n",
    "from dotenv import load_dotenv\n",
    "from openai import AzureOpenAI\n",
    "from src.crossword.utils import load_puzzle\n",
    "from src.crossword.crossword import CrosswordPuzzle\n",
    "\n",
    "# Load environment variables from .env file\n",
    "load_dotenv()\n"
   ]
  },
  {
   "cell_type": "code",
   "execution_count": 2,
   "metadata": {},
   "outputs": [],
   "source": [
    "# Load the puzzle\n",
    "puzzle = load_puzzle(\"data/first.puz\")"
   ]
  },
  {
   "cell_type": "code",
   "execution_count": 3,
   "metadata": {},
   "outputs": [
    {
     "name": "stdout",
     "output_type": "stream",
     "text": [
      "--- Clues ---\n",
      "number=1 text='Feline friend' direction=<Direction.ACROSS: 'across'> length=3 row=0 col=0 answer='CAT' answered=False\n"
     ]
    }
   ],
   "source": [
    "print('--- Clues ---')\n",
    "clue = puzzle.clues[0]\n",
    "print(clue)"
   ]
  },
  {
   "cell_type": "code",
   "execution_count": 4,
   "metadata": {},
   "outputs": [
    {
     "name": "stdout",
     "output_type": "stream",
     "text": [
      "--- Set a guess ---\n",
      "┌───────────────┐\n",
      "│ a  b  c  ░  ░ │\n",
      "│    ░     ░  ░ │\n",
      "│    ░     ░  ░ │\n",
      "│ ░  ░     ░  ░ │\n",
      "│ ░  ░  ░  ░  ░ │\n",
      "└───────────────┘\n"
     ]
    }
   ],
   "source": [
    "print('--- Set a guess ---')\n",
    "puzzle.set_chars(puzzle.clues[0], [\"a\", \"b\", \"c\"])\n",
    "print(puzzle)"
   ]
  },
  {
   "cell_type": "code",
   "execution_count": 5,
   "metadata": {},
   "outputs": [
    {
     "name": "stdout",
     "output_type": "stream",
     "text": [
      "--- Entry is correct? ---\n",
      "False\n"
     ]
    }
   ],
   "source": [
    "print('--- Entry is correct? ---')\n",
    "print(puzzle.validate_clue(clue))"
   ]
  },
  {
   "cell_type": "code",
   "execution_count": 6,
   "metadata": {},
   "outputs": [
    {
     "name": "stdout",
     "output_type": "stream",
     "text": [
      "--- Undo ---\n",
      "┌───────────────┐\n",
      "│          ░  ░ │\n",
      "│    ░     ░  ░ │\n",
      "│    ░     ░  ░ │\n",
      "│ ░  ░     ░  ░ │\n",
      "│ ░  ░  ░  ░  ░ │\n",
      "└───────────────┘\n"
     ]
    }
   ],
   "source": [
    "print('--- Undo ---')\n",
    "puzzle.undo()\n",
    "print(puzzle)"
   ]
  },
  {
   "cell_type": "code",
   "execution_count": 7,
   "metadata": {},
   "outputs": [
    {
     "name": "stdout",
     "output_type": "stream",
     "text": [
      "--- Reveal Clue ---\n",
      "┌───────────────┐\n",
      "│ C  A  T  ░  ░ │\n",
      "│    ░     ░  ░ │\n",
      "│    ░     ░  ░ │\n",
      "│ ░  ░     ░  ░ │\n",
      "│ ░  ░  ░  ░  ░ │\n",
      "└───────────────┘\n"
     ]
    }
   ],
   "source": [
    "print('--- Reveal Clue ---')\n",
    "puzzle.reveal_clue(clue)\n",
    "print(puzzle)"
   ]
  },
  {
   "cell_type": "code",
   "execution_count": 8,
   "metadata": {},
   "outputs": [
    {
     "name": "stdout",
     "output_type": "stream",
     "text": [
      "--- Entry is correct? ---\n",
      "True\n"
     ]
    }
   ],
   "source": [
    "print('--- Entry is correct? ---')\n",
    "print(puzzle.validate_clue(clue))"
   ]
  },
  {
   "cell_type": "code",
   "execution_count": 9,
   "metadata": {},
   "outputs": [
    {
     "name": "stdout",
     "output_type": "stream",
     "text": [
      "--- Completed all? ---\n",
      "False\n"
     ]
    }
   ],
   "source": [
    "print('--- Completed all? ---')\n",
    "print(puzzle.validate_all())"
   ]
  },
  {
   "cell_type": "code",
   "execution_count": 10,
   "metadata": {},
   "outputs": [
    {
     "name": "stdout",
     "output_type": "stream",
     "text": [
      "--- Reveal All ---\n",
      "┌───────────────┐\n",
      "│ C  A  T  ░  ░ │\n",
      "│ O  ░  E  ░  ░ │\n",
      "│ W  ░  A  ░  ░ │\n",
      "│ ░  ░  R  ░  ░ │\n",
      "│ ░  ░  ░  ░  ░ │\n",
      "└───────────────┘\n"
     ]
    }
   ],
   "source": [
    "print('--- Reveal All ---')\n",
    "puzzle.reveal_all()\n",
    "print(puzzle)"
   ]
  },
  {
   "cell_type": "code",
   "execution_count": 11,
   "metadata": {},
   "outputs": [
    {
     "name": "stdout",
     "output_type": "stream",
     "text": [
      "--- Completed all? ---\n",
      "True\n"
     ]
    }
   ],
   "source": [
    "print('--- Completed all? ---')\n",
    "print(puzzle.validate_all())"
   ]
  },
  {
   "cell_type": "code",
   "execution_count": 12,
   "metadata": {},
   "outputs": [
    {
     "name": "stdout",
     "output_type": "stream",
     "text": [
      "--- Reset ---\n",
      "┌───────────────┐\n",
      "│          ░  ░ │\n",
      "│    ░     ░  ░ │\n",
      "│    ░     ░  ░ │\n",
      "│ ░  ░     ░  ░ │\n",
      "│ ░  ░  ░  ░  ░ │\n",
      "└───────────────┘\n"
     ]
    }
   ],
   "source": [
    "print('--- Reset ---')\n",
    "puzzle.reset()\n",
    "print(puzzle)"
   ]
  },
  {
   "cell_type": "code",
   "execution_count": 13,
   "metadata": {},
   "outputs": [
    {
     "name": "stdout",
     "output_type": "stream",
     "text": [
      "--- OpenAI Hello World ---\n",
      "Hello! How can I assist you today?\n"
     ]
    }
   ],
   "source": [
    "print('--- OpenAI Hello World ---')\n",
    "def openai_hello_world():\n",
    "    client = AzureOpenAI(\n",
    "        api_version=os.getenv(\"OPENAI_API_VERSION\"),\n",
    "        azure_endpoint=os.getenv(\"AZURE_OPENAI_ENDPOINT\"),\n",
    "        azure_deployment=os.getenv(\"AZURE_OPENAI_MODEL\"),\n",
    "    )\n",
    "    response = client.chat.completions.create(\n",
    "        model=\"gpt-4o\",\n",
    "        messages=[{\"role\": \"system\", \"content\": \"You are a helpful assistant.\"}, \n",
    "                  {\"role\": \"user\", \"content\": \"Hello!\"}]\n",
    "    )\n",
    "    return response.choices[0].message.content\n",
    "\n",
    "print(openai_hello_world())"
   ]
  }
 ],
 "metadata": {
  "kernelspec": {
   "display_name": "venv",
   "language": "python",
   "name": "python3"
  },
  "language_info": {
   "codemirror_mode": {
    "name": "ipython",
    "version": 3
   },
   "file_extension": ".py",
   "mimetype": "text/x-python",
   "name": "python",
   "nbconvert_exporter": "python",
   "pygments_lexer": "ipython3",
   "version": "3.12.4"
  }
 },
 "nbformat": 4,
 "nbformat_minor": 2
}
